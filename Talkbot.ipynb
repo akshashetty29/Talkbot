{
 "cells": [
  {
   "cell_type": "markdown",
   "metadata": {},
   "source": [
    "# Talkbot using Python ML"
   ]
  },
  {
   "cell_type": "markdown",
   "metadata": {},
   "source": [
    "Import Required Packages"
   ]
  },
  {
   "cell_type": "code",
   "execution_count": 3,
   "metadata": {},
   "outputs": [],
   "source": [
    "import random\n",
    "import webbrowser\n",
    "import pyttsx3\n",
    "import speech_recognition as sr\n",
    "from chatterbot.trainers import ChatterBotCorpusTrainer\n",
    "from  chatterbot import ChatBot"
   ]
  },
  {
   "cell_type": "code",
   "execution_count": 2,
   "metadata": {},
   "outputs": [
    {
     "name": "stdout",
     "output_type": "stream",
     "text": [
      "A moment of silence, please...\n",
      "Set minimum energy threshold to 79.29639882208261\n",
      "Say something!\n",
      "Got it! Now to recognize it...\n",
      "Oops! Didn't catch that\n",
      "Say something!\n",
      "Got it! Now to recognize it...\n",
      "You said hi hello\n",
      "Say something!\n"
     ]
    }
   ],
   "source": [
    "from speech_recognition.__main__ import r, audio"
   ]
  },
  {
   "cell_type": "markdown",
   "metadata": {},
   "source": [
    "Initializing"
   ]
  },
  {
   "cell_type": "code",
   "execution_count": 4,
   "metadata": {},
   "outputs": [],
   "source": [
    "engine = pyttsx3.init()\n",
    "voices = engine.getProperty('voices')\n",
    "engine.setProperty('voice', voices[0].id)\n",
    "volume = engine.getProperty('volume')\n",
    "engine.setProperty('volume', 100.0)\n",
    "rate = engine.getProperty('rate')\n",
    "engine.setProperty('rate', rate)\n",
    "\n",
    "bot = ChatBot('Oreo')"
   ]
  },
  {
   "cell_type": "code",
   "execution_count": 5,
   "metadata": {},
   "outputs": [],
   "source": [
    "cmd1 = ['open browser', 'open google']"
   ]
  },
  {
   "cell_type": "markdown",
   "metadata": {},
   "source": [
    "Training the bot"
   ]
  },
  {
   "cell_type": "code",
   "execution_count": 6,
   "metadata": {},
   "outputs": [
    {
     "name": "stdout",
     "output_type": "stream",
     "text": [
      "ai.yml Training: [####################] 100%\n",
      "botprofile.yml Training: [####################] 100%\n",
      "computers.yml Training: [####################] 100%\n",
      "conversations.yml Training: [####################] 100%\n",
      "emotion.yml Training: [####################] 100%\n",
      "food.yml Training: [####################] 100%\n",
      "gossip.yml Training: [####################] 100%\n",
      "greetings.yml Training: [####################] 100%\n",
      "health.yml Training: [####################] 100%\n",
      "history.yml Training: [####################] 100%\n",
      "humor.yml Training: [####################] 100%\n",
      "literature.yml Training: [####################] 100%\n",
      "money.yml Training: [####################] 100%\n",
      "movies.yml Training: [####################] 100%\n",
      "politics.yml Training: [####################] 100%\n",
      "psychology.yml Training: [####################] 100%\n",
      "science.yml Training: [####################] 100%\n",
      "sports.yml Training: [####################] 100%\n",
      "trivia.yml Training: [####################] 100%\n"
     ]
    }
   ],
   "source": [
    "bot.set_trainer(ChatterBotCorpusTrainer)\n",
    "bot.train('chatterbot.corpus.english')"
   ]
  },
  {
   "cell_type": "code",
   "execution_count": 13,
   "metadata": {},
   "outputs": [
    {
     "name": "stdout",
     "output_type": "stream",
     "text": [
      "Tell me something:\n",
      "You:hai\n",
      "Oreo : How are you doing? \n",
      "Tell me something:\n",
      "You:hi how are you doing\n",
      "Oreo : I am doing well. \n",
      "Tell me something:\n",
      "You:good morning\n",
      "Oreo : how are you \n",
      "Tell me something:\n",
      "You:open browser\n",
      "Tell me something:\n",
      "You:bio Rio\n",
      "Oreo : I feel frustrated from time to time with my lot in life, but not really mad. \n",
      "Tell me something:\n",
      "You:bio Rio\n",
      "Oreo : I feel frustrated from time to time with my lot in life, but not really mad. \n",
      "Tell me something:\n",
      "You:bolo bhai\n",
      "Oreo : good morning \n",
      "Tell me something:\n",
      "Oreo: Sorry!!!! I Could not understand audio :(\n"
     ]
    }
   ],
   "source": [
    "while True:\n",
    "    r = sr.Recognizer()\n",
    "    with sr.Microphone() as source:\n",
    "        print(\"Tell me something:\")\n",
    "        audio = r.listen(source)\n",
    "        try:\n",
    "            print(\"You:\" + r.recognize_google(audio))\n",
    "        except sr.UnknownValueError:\n",
    "            engine.say('I didnt get that. Rerun the code')\n",
    "            print(bot.name+\": Sorry!!!! I Could not understand audio :(\")\n",
    "            break\n",
    "    if 'bye' in (r.recognize_google(audio) ):\n",
    "        reply='Bye'\n",
    "        print('{} : {} '.format(bot.name,reply))\n",
    "        engine.say('Bye')\n",
    "        engine.runAndWait()\n",
    "        break\n",
    "    elif r.recognize_google(audio) in cmd1:\n",
    "        webbrowser.open('www.google.com')\n",
    "    else:\n",
    "        reply=bot.get_response(r.recognize_google(audio))\n",
    "        engine.say(reply)\n",
    "        engine.runAndWait()\n",
    "        print('{} : {} '.format(bot.name,reply))"
   ]
  },
  {
   "cell_type": "code",
   "execution_count": null,
   "metadata": {},
   "outputs": [],
   "source": []
  }
 ],
 "metadata": {
  "kernelspec": {
   "display_name": "Python 3",
   "language": "python",
   "name": "python3"
  },
  "language_info": {
   "codemirror_mode": {
    "name": "ipython",
    "version": 3
   },
   "file_extension": ".py",
   "mimetype": "text/x-python",
   "name": "python",
   "nbconvert_exporter": "python",
   "pygments_lexer": "ipython3",
   "version": "3.7.4"
  }
 },
 "nbformat": 4,
 "nbformat_minor": 2
}
